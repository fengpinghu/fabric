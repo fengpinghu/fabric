{
 "cells": [
  {
   "cell_type": "markdown",
   "id": "72e90113-ecfc-4373-9ff6-25d4f8a9323f",
   "metadata": {},
   "source": [
    "## This notebook installs kubernetes with kubespray and registers the cluster in slate"
   ]
  },
  {
   "cell_type": "markdown",
   "id": "2049b916-7bdb-44c9-b084-80e6b3aeba3e",
   "metadata": {},
   "source": [
    "## clone kubespray and install requirement"
   ]
  },
  {
   "cell_type": "code",
   "execution_count": 1,
   "id": "0e1c93d7-4a6c-4e11-a126-b462fb878e58",
   "metadata": {},
   "outputs": [
    {
     "name": "stdout",
     "output_type": "stream",
     "text": [
      "(venv) Collecting ansible==3.4.0\n",
      "  Downloading ansible-3.4.0.tar.gz (31.9 MB)\n",
      "\u001b[K     |████████████████████████████████| 31.9 MB 5.9 MB/s eta 0:00:01\n",
      "\u001b[?25hCollecting ansible-base==2.10.11\n",
      "  Downloading ansible-base-2.10.11.tar.gz (6.0 MB)\n",
      "\u001b[K     |████████████████████████████████| 6.0 MB 26.4 MB/s eta 0:00:01\n",
      "\u001b[?25hCollecting cryptography==2.8\n",
      "  Downloading cryptography-2.8-cp34-abi3-manylinux2010_x86_64.whl (2.3 MB)\n",
      "\u001b[K     |████████████████████████████████| 2.3 MB 24.4 MB/s eta 0:00:01\n",
      "\u001b[?25hCollecting jinja2==2.11.3\n",
      "  Downloading Jinja2-2.11.3-py2.py3-none-any.whl (125 kB)\n",
      "\u001b[K     |████████████████████████████████| 125 kB 103.8 MB/s eta 0:00:01\n",
      "\u001b[?25hCollecting netaddr==0.7.19\n",
      "  Downloading netaddr-0.7.19-py2.py3-none-any.whl (1.6 MB)\n",
      "\u001b[K     |████████████████████████████████| 1.6 MB 51.1 MB/s eta 0:00:01\n",
      "\u001b[?25hCollecting pbr==5.4.4\n",
      "  Downloading pbr-5.4.4-py2.py3-none-any.whl (110 kB)\n",
      "\u001b[K     |████████████████████████████████| 110 kB 100.9 MB/s eta 0:00:01\n",
      "\u001b[?25hCollecting jmespath==0.9.5\n",
      "  Downloading jmespath-0.9.5-py2.py3-none-any.whl (24 kB)\n",
      "Collecting ruamel.yaml==0.16.10\n",
      "  Downloading ruamel.yaml-0.16.10-py2.py3-none-any.whl (111 kB)\n",
      "\u001b[K     |████████████████████████████████| 111 kB 77.3 MB/s eta 0:00:01\n",
      "\u001b[33mWARNING: The candidate selected for download or install is a yanked version: 'ruamel.yaml.clib' candidate (version 0.2.4 at https://files.pythonhosted.org/packages/fc/df/b4ba0cb4b05abd43e57f7dde48e5c068f21ff6c00d6a64e4471d0943f783/ruamel.yaml.clib-0.2.4-cp39-cp39-manylinux1_x86_64.whl#sha256=2d75c965c407fdef9d1b33cd39faf47aa106d3fa2cf83960ec9ed95c4c9a55bc (from https://pypi.org/simple/ruamel-yaml-clib/))\n",
      "Reason for being yanked: did not include python_requires\u001b[0m\n",
      "\u001b[?25hCollecting ruamel.yaml.clib==0.2.4\n",
      "  Downloading ruamel.yaml.clib-0.2.4-cp39-cp39-manylinux1_x86_64.whl (539 kB)\n",
      "\u001b[K     |████████████████████████████████| 539 kB 81.8 MB/s eta 0:00:01\n",
      "\u001b[?25hCollecting MarkupSafe==1.1.1\n",
      "  Downloading MarkupSafe-1.1.1-cp39-cp39-manylinux2010_x86_64.whl (32 kB)\n",
      "Collecting PyYAML\n",
      "  Downloading PyYAML-6.0-cp39-cp39-manylinux_2_5_x86_64.manylinux1_x86_64.manylinux_2_12_x86_64.manylinux2010_x86_64.whl (661 kB)\n",
      "\u001b[K     |████████████████████████████████| 661 kB 68.7 MB/s eta 0:00:01\n",
      "\u001b[?25hCollecting packaging\n",
      "  Downloading packaging-21.2-py3-none-any.whl (40 kB)\n",
      "\u001b[K     |████████████████████████████████| 40 kB 12.3 MB/s eta 0:00:01\n",
      "\u001b[?25hCollecting cffi!=1.11.3,>=1.8\n",
      "  Downloading cffi-1.15.0-cp39-cp39-manylinux_2_12_x86_64.manylinux2010_x86_64.whl (444 kB)\n",
      "\u001b[K     |████████████████████████████████| 444 kB 95.7 MB/s eta 0:00:01\n",
      "\u001b[?25hCollecting six>=1.4.1\n",
      "  Downloading six-1.16.0-py2.py3-none-any.whl (11 kB)\n",
      "Collecting pyparsing<3,>=2.0.2\n",
      "  Using cached pyparsing-2.4.7-py2.py3-none-any.whl (67 kB)\n",
      "Collecting pycparser\n",
      "  Downloading pycparser-2.21-py2.py3-none-any.whl (118 kB)\n",
      "\u001b[K     |████████████████████████████████| 118 kB 74.0 MB/s eta 0:00:01\n",
      "\u001b[?25hUsing legacy 'setup.py install' for ansible, since package 'wheel' is not installed.\n",
      "Using legacy 'setup.py install' for ansible-base, since package 'wheel' is not installed.\n",
      "Installing collected packages: MarkupSafe, jinja2, PyYAML, pycparser, cffi, six, cryptography, pyparsing, packaging, ansible-base, ansible, netaddr, pbr, jmespath, ruamel.yaml, ruamel.yaml.clib\n",
      "    Running setup.py install for ansible-base ... \u001b[?25ldone\n",
      "\u001b[?25h    Running setup.py install for ansible ... \u001b[?25ldone\n",
      "\u001b[?25hSuccessfully installed MarkupSafe-1.1.1 PyYAML-6.0 ansible-3.4.0 ansible-base-2.10.11 cffi-1.15.0 cryptography-2.8 jinja2-2.11.3 jmespath-0.9.5 netaddr-0.7.19 packaging-21.2 pbr-5.4.4 pycparser-2.21 pyparsing-2.4.7 ruamel.yaml-0.16.10 ruamel.yaml.clib-0.2.4 six-1.16.0\n",
      "\u001b[33mWARNING: You are using pip version 20.2.3; however, version 21.3.1 is available.\n",
      "You should consider upgrading via the '/home/fabric/venv/bin/python -m pip install --upgrade pip' command.\u001b[0m\n",
      "(venv) "
     ]
    },
    {
     "ename": "",
     "evalue": "1",
     "output_type": "error",
     "traceback": []
    }
   ],
   "source": [
    "cd /home/fabric/work/kubespray\n",
    "#git stash\n",
    "#https://github.com/kubernetes-sigs/kubespray.git\n",
    "#git pull origin master\n",
    "\n",
    "python -m venv /home/fabric/venv\n",
    "source /home/fabric/venv/bin/activate\n",
    "pip3 install -r  requirements.txt"
   ]
  },
  {
   "cell_type": "markdown",
   "id": "0f35c760-d832-4dad-a46f-f472f995ea0f",
   "metadata": {},
   "source": [
    "## Create a Kubespray inventory directory"
   ]
  },
  {
   "cell_type": "code",
   "execution_count": 2,
   "id": "53db2f64-c9d7-4f75-8e05-a7056d0d8572",
   "metadata": {},
   "outputs": [
    {
     "name": "stdout",
     "output_type": "stream",
     "text": [
      "(venv) "
     ]
    },
    {
     "ename": "",
     "evalue": "1",
     "output_type": "error",
     "traceback": []
    }
   ],
   "source": [
    "cp -rfp inventory/sample inventory/fabric"
   ]
  },
  {
   "cell_type": "markdown",
   "id": "bb9ac409-ba29-4b26-8db0-15021813cbf7",
   "metadata": {},
   "source": [
    "## Copy over the inventory file generated by the kubernetes-slice notebook"
   ]
  },
  {
   "cell_type": "code",
   "execution_count": 3,
   "id": "23eb86c6-0be0-4082-ae80-a23ca51f06db",
   "metadata": {},
   "outputs": [
    {
     "name": "stdout",
     "output_type": "stream",
     "text": [
      "(venv) "
     ]
    },
    {
     "ename": "",
     "evalue": "1",
     "output_type": "error",
     "traceback": []
    }
   ],
   "source": [
    "cp /home/fabric/work/hosts.yaml inventory/fabric/hosts.yaml"
   ]
  },
  {
   "cell_type": "code",
   "execution_count": 10,
   "id": "71209b87-2a2e-4581-9bba-78f572bd316b",
   "metadata": {},
   "outputs": [
    {
     "name": "stdout",
     "output_type": "stream",
     "text": [
      "Agent pid 761\n",
      "(venv) "
     ]
    },
    {
     "ename": "",
     "evalue": "1",
     "output_type": "error",
     "traceback": []
    }
   ],
   "source": [
    "eval $(ssh-agent -s)\n",
    "DISPLAY=1 SSH_ASKPASS=\"/home/fabric/work/getpass\"  ssh-add /home/fabric/.ssh/id_rsa_fabric </dev/null"
   ]
  },
  {
   "cell_type": "markdown",
   "id": "dcbd03aa-6a6d-4ef3-93cd-52c6d8739723",
   "metadata": {},
   "source": [
    "## Additional Configurations, please reference https://slateci.io/docs/cluster/automated/kubernetes-cluster-creation.html"
   ]
  },
  {
   "cell_type": "markdown",
   "id": "f465d24e-fdf6-49c6-8c39-ebb3623e0474",
   "metadata": {},
   "source": [
    "## Run the Run the Kubespray playbook"
   ]
  },
  {
   "cell_type": "code",
   "execution_count": 18,
   "id": "82b760cb-15a9-47a1-8acd-9e97d96fcaff",
   "metadata": {},
   "outputs": [
    {
     "name": "stdout",
     "output_type": "stream",
     "text": [
      "\n",
      "PLAY [localhost] ***************************************************************\n",
      "Monday 08 November 2021  22:48:05 +0000 (0:00:00.039)       0:00:00.039 ******* \n",
      "\n",
      "TASK [Check 2.9.0 <= Ansible version < 2.11.0] *********************************\n",
      "ok: [localhost] => {\n",
      "    \"changed\": false,\n",
      "    \"msg\": \"All assertions passed\"\n",
      "}\n",
      "Monday 08 November 2021  22:48:05 +0000 (0:00:00.034)       0:00:00.073 ******* \n",
      "\n",
      "TASK [Check Ansible version > 2.10.11 when using ansible 2.10] *****************\n",
      "ok: [localhost] => {\n",
      "    \"changed\": false,\n",
      "    \"msg\": \"All assertions passed\"\n",
      "}\n",
      "Monday 08 November 2021  22:48:05 +0000 (0:00:00.032)       0:00:00.106 ******* \n",
      "\n",
      "TASK [Check that python netaddr is installed] **********************************\n",
      "ok: [localhost] => {\n",
      "    \"changed\": false,\n",
      "    \"msg\": \"All assertions passed\"\n",
      "}\n",
      "Monday 08 November 2021  22:48:05 +0000 (0:00:00.049)       0:00:00.156 ******* \n",
      "\n",
      "TASK [Check that jinja is not too old (install via pip)] ***********************\n",
      "ok: [localhost] => {\n",
      "    \"changed\": false,\n",
      "    \"msg\": \"All assertions passed\"\n",
      "}\n",
      "\n",
      "PLAY [Add kube-master nodes to kube_control_plane] *****************************\n",
      "Monday 08 November 2021  22:48:05 +0000 (0:00:00.054)       0:00:00.211 ******* \n",
      "\n",
      "TASK [add nodes to kube_control_plane group] ***********************************\n",
      "changed: [node1]\n",
      "\n",
      "PLAY [Add kube-node nodes to kube_node] ****************************************\n",
      "Monday 08 November 2021  22:48:05 +0000 (0:00:00.032)       0:00:00.244 ******* \n",
      "\n",
      "TASK [add nodes to kube_node group] ********************************************\n",
      "changed: [node1]\n",
      "changed: [node2]\n",
      "\n",
      "PLAY [Add k8s-cluster nodes to k8s_cluster] ************************************\n",
      "Monday 08 November 2021  22:48:05 +0000 (0:00:00.038)       0:00:00.282 ******* \n",
      "\n",
      "TASK [add nodes to k8s_cluster group] ******************************************\n",
      "changed: [node1]\n",
      "changed: [node2]\n",
      "\n",
      "PLAY [Add calico-rr nodes to calico_rr] ****************************************\n",
      "skipping: no hosts matched\n",
      "[WARNING]: Could not match supplied host pattern, ignoring: no-floating\n",
      "\n",
      "PLAY [Add no-floating nodes to no_floating] ************************************\n",
      "skipping: no hosts matched\n",
      "[WARNING]: Could not match supplied host pattern, ignoring: bastion\n",
      "\n",
      "PLAY [bastion[0]] **************************************************************\n",
      "skipping: no hosts matched\n",
      "\n",
      "PLAY [k8s_cluster:etcd] ********************************************************\n",
      "Monday 08 November 2021  22:48:05 +0000 (0:00:00.077)       0:00:00.360 ******* \n",
      "Monday 08 November 2021  22:48:05 +0000 (0:00:00.032)       0:00:00.392 ******* \n",
      "Monday 08 November 2021  22:48:05 +0000 (0:00:00.031)       0:00:00.423 ******* \n",
      "Monday 08 November 2021  22:48:05 +0000 (0:00:00.032)       0:00:00.455 ******* \n",
      "Monday 08 November 2021  22:48:05 +0000 (0:00:00.035)       0:00:00.491 ******* \n",
      "Monday 08 November 2021  22:48:05 +0000 (0:00:00.038)       0:00:00.530 ******* \n",
      "Monday 08 November 2021  22:48:05 +0000 (0:00:00.030)       0:00:00.560 ******* \n",
      "Monday 08 November 2021  22:48:05 +0000 (0:00:00.027)       0:00:00.588 ******* \n",
      "Monday 08 November 2021  22:48:05 +0000 (0:00:00.034)       0:00:00.622 ******* \n",
      "Monday 08 November 2021  22:48:05 +0000 (0:00:00.035)       0:00:00.658 ******* \n",
      "Monday 08 November 2021  22:48:06 +0000 (0:00:00.038)       0:00:00.696 ******* \n",
      "Monday 08 November 2021  22:48:06 +0000 (0:00:00.036)       0:00:00.733 ******* \n",
      "Monday 08 November 2021  22:48:06 +0000 (0:00:00.025)       0:00:00.758 ******* \n",
      "Monday 08 November 2021  22:48:06 +0000 (0:00:00.034)       0:00:00.793 ******* \n",
      "Monday 08 November 2021  22:48:06 +0000 (0:00:00.036)       0:00:00.830 ******* \n",
      "Monday 08 November 2021  22:48:06 +0000 (0:00:00.034)       0:00:00.864 ******* \n",
      "Monday 08 November 2021  22:48:06 +0000 (0:00:00.035)       0:00:00.900 ******* \n",
      "Monday 08 November 2021  22:48:06 +0000 (0:00:00.060)       0:00:00.960 ******* \n",
      "\n",
      "TASK [kubespray-defaults : Configure defaults] *********************************\n",
      "ok: [node1] => {\n",
      "    \"msg\": \"Check roles/kubespray-defaults/defaults/main.yml\"\n",
      "}\n",
      "ok: [node2] => {\n",
      "    \"msg\": \"Check roles/kubespray-defaults/defaults/main.yml\"\n",
      "}\n",
      "Monday 08 November 2021  22:48:06 +0000 (0:00:00.041)       0:00:01.001 ******* \n",
      "Monday 08 November 2021  22:48:06 +0000 (0:00:00.043)       0:00:01.045 ******* \n",
      "Monday 08 November 2021  22:48:06 +0000 (0:00:00.033)       0:00:01.078 ******* \n",
      "Monday 08 November 2021  22:48:06 +0000 (0:00:00.037)       0:00:01.116 ******* \n",
      "Monday 08 November 2021  22:48:06 +0000 (0:00:00.027)       0:00:01.144 ******* \n",
      "Monday 08 November 2021  22:48:06 +0000 (0:00:00.032)       0:00:01.177 ******* \n",
      "[WARNING]: raw module does not support the environment keyword\n",
      "[WARNING]: raw module does not support the environment keyword\n",
      "Enter passphrase for key '/home/fabric/.ssh/id_rsa_fabric': \n",
      "\n",
      "TASK [bootstrap-os : Fetch /etc/os-release] ************************************\n",
      "fatal: [node1]: FAILED! => {\"msg\": \"Timeout (12s) waiting for privilege escalation prompt: \"}\n",
      "\n",
      "fatal: [node2]: FAILED! => {\"msg\": \"Timeout (12s) waiting for privilege escalation prompt: \"}\n",
      "\n",
      "NO MORE HOSTS LEFT *************************************************************\n",
      "\n",
      "PLAY RECAP *********************************************************************\n",
      "localhost                  : ok=4    changed=0    unreachable=0    failed=0    skipped=0    rescued=0    ignored=0   \n",
      "node1                      : ok=4    changed=3    unreachable=0    failed=1    skipped=22   rescued=0    ignored=0   \n",
      "node2                      : ok=3    changed=2    unreachable=0    failed=1    skipped=16   rescued=0    ignored=0   \n",
      "\n",
      "Monday 08 November 2021  22:48:18 +0000 (0:00:12.269)       0:00:13.446 ******* \n",
      "=============================================================================== \n",
      "bootstrap-os : Fetch /etc/os-release ----------------------------------- 12.27s\n",
      "add nodes to k8s_cluster group ------------------------------------------ 0.08s\n",
      "download : download | Download files / images --------------------------- 0.06s\n",
      "Check that jinja is not too old (install via pip) ----------------------- 0.05s\n",
      "Check that python netaddr is installed ---------------------------------- 0.05s\n",
      "kubespray-defaults : Gather ansible_default_ipv4 from all hosts --------- 0.04s\n",
      "kubespray-defaults : Configure defaults --------------------------------- 0.04s\n",
      "download : prep_download | Set image pull/info command for containerd and crio on localhost --- 0.04s\n",
      "add nodes to kube_node group -------------------------------------------- 0.04s\n",
      "download : prep_download | Register docker images info ------------------ 0.04s\n",
      "kubespray-defaults : set fallback_ips ----------------------------------- 0.04s\n",
      "container-engine/nerdctl : nerdctl | Download nerdctl ------------------- 0.04s\n",
      "download : prep_download | Create staging directory on remote node ------ 0.04s\n",
      "download : prep_download | Check that local user is in group or can become root --- 0.04s\n",
      "download : download | Get kubeadm binary and list of required images ---- 0.04s\n",
      "download : prep_download | Set image pull/info command for docker on localhost --- 0.04s\n",
      "container-engine/crictl : install crictĺ -------------------------------- 0.03s\n",
      "Check 2.9.0 <= Ansible version < 2.11.0 --------------------------------- 0.03s\n",
      "download : prep_download | Parse the outputs of the previous commands --- 0.03s\n",
      "container-engine/nerdctl : nerdctl | Copy nerdctl binary from download dir --- 0.03s\n",
      "(venv) "
     ]
    },
    {
     "ename": "",
     "evalue": "1",
     "output_type": "error",
     "traceback": []
    }
   ],
   "source": [
    "ansible-playbook -i inventory/fabric/hosts.yaml --become --become-user=root -u centos cluster.yml"
   ]
  },
  {
   "cell_type": "markdown",
   "id": "bba9d277-9730-4f17-9135-07174e818562",
   "metadata": {},
   "source": [
    "## Register in slate"
   ]
  },
  {
   "cell_type": "code",
   "execution_count": null,
   "id": "c1257faf-ca30-455e-b05d-b571948f39ca",
   "metadata": {},
   "outputs": [],
   "source": [
    "ansible-playbook -i /path/to/kubespray/inventory/<CLUSTER_NAME>/hosts.yaml -u <SSH_USER> --become --become-user=root \\\n",
    " -e 'slate_cli_token=<SLATE_CLI_TOKEN>' \\\n",
    " -e 'slate_cli_endpoint=https://api.slateci.io:443' \\\n",
    " site.yml"
   ]
  }
 ],
 "metadata": {
  "kernelspec": {
   "display_name": "Bash",
   "language": "bash",
   "name": "bash"
  },
  "language_info": {
   "codemirror_mode": "shell",
   "file_extension": ".sh",
   "mimetype": "text/x-sh",
   "name": "bash"
  }
 },
 "nbformat": 4,
 "nbformat_minor": 5
}
